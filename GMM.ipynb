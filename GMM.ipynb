{
 "cells": [
  {
   "cell_type": "code",
   "execution_count": 3,
   "metadata": {},
   "outputs": [],
   "source": [
    "import numpy as np\n",
    "import pandas as pd\n",
    "from sklearn.mixture import BayesianGaussianMixture\n",
    "from scipy.stats import chi2"
   ]
  },
  {
   "cell_type": "code",
   "execution_count": 229,
   "metadata": {},
   "outputs": [],
   "source": [
    "class BGMMBDT:\n",
    "    def __init__(self, criteria: float=0.5, max_iter: int=1000):\n",
    "        self.list_model = []\n",
    "        self.list_cluster = []\n",
    "        self.criteria = criteria\n",
    "        self.max_iter = max_iter\n",
    "    \n",
    "    def recursive_BGMM(self, array_value: np.array):\n",
    "        if array_value.shape[0] < 2: return array_value\n",
    "        model = BayesianGaussianMixture(n_components=2,\n",
    "                                        covariance_type=\"full\",\n",
    "                                        weight_concentration_prior_type=\"dirichlet_process\",\n",
    "                                        # weight_concentration_prior=0.5,\n",
    "                                        init_params=\"random\",\n",
    "                                        max_iter=self.max_iter).fit(array_value)\n",
    "        arrayCluster = model.predict(array_value)\n",
    "        df_values = pd.DataFrame(zip(array_value, arrayCluster), columns=[\"value\", \"cluster\"])\n",
    "        df_cluster = df_values.groupby(\"cluster\").count()\n",
    "        if df_cluster.shape[0] < 2: return array_value\n",
    "        # df_cluster[\"means\"] = model.means_\n",
    "        # df_cluster[\"covs\"] = model.covariances_.squeeze(axis=2)\n",
    "        df_cluster[\"means\"] = np.median(array_value).item()\n",
    "        df_cluster.sort_values(by=\"value\", ascending=False, inplace=True)\n",
    "        # if int(df_cluster.at[1, \"value\"]) / int(df_cluster.at[0, \"value\"]) > 0.05: return array_value\n",
    "\n",
    "        self.list_model.append(model)\n",
    "        self.list_cluster.append(df_cluster)\n",
    "        array_value = np.array(df_values.loc[df_values[\"cluster\"] == df_cluster.index[0], \"value\"])\n",
    "        return self.recursive_BGMM(array_value.reshape(-1, 1))\n",
    "\n",
    "    def predict(self, array_value: np.array, weight_type: str=\"linear\"):\n",
    "        self.recursive_BGMM(array_value)\n",
    "        assert weight_type.lower() == \"linear\" or weight_type.lower() == \"exp\", \"weight_type is not specific!\\n Choose between 'linear' or 'exp' please.\"\n",
    "\n",
    "        depth = len(self.list_cluster)\n",
    "        if depth < 2: return np.zeros_like(array_value)\n",
    "\n",
    "        df_pred = pd.DataFrame()\n",
    "        for idx, (model, df_cluster) in enumerate(zip(self.list_model, self.list_cluster)):\n",
    "            LLMean = model.score_samples(np.array(df_cluster.at[0, \"means\"]).reshape(-1, 1))\n",
    "            LLValues = model.score_samples(array_value)\n",
    "            LR = 2 * np.abs(LLMean - LLValues)\n",
    "            p_values = chi2.sf(LR, 1)\n",
    "            prob_values = model.predict_proba(array_value)[:, df_cluster.index[0]]\n",
    "\n",
    "            df_p = pd.DataFrame(zip(p_values, prob_values), columns = [\"p_values\", \"prob\"])\n",
    "            pred_name = \"pred\" + str(idx)\n",
    "            df_p[pred_name] = 0\n",
    "            df_p.loc[(df_p[\"p_values\"] < 0.05) & (df_p[\"prob\"] < 0.025), pred_name] = 1\n",
    "            df_pred = pd.concat((df_pred, df_p.loc[:, pred_name]), axis=1)            \n",
    "\n",
    "        if weight_type == \"linear\":\n",
    "            array_weights = np.linspace(1, depth, num=depth)\n",
    "        elif weight_type == \"exp\":\n",
    "            array_weights = np.exp(np.linspace(1, depth, num=depth))\n",
    "\n",
    "        df_pred[\"sum\"] = np.dot(np.array(df_pred), array_weights[::-1] / depth)\n",
    "        df_pred[\"sum\"] = df_pred[\"sum\"].apply(lambda x: 1 if x >= self.criteria else 0)\n",
    "\n",
    "        return np.array(df_pred[\"sum\"])\n",
    "\n"
   ]
  },
  {
   "cell_type": "code",
   "execution_count": 230,
   "metadata": {},
   "outputs": [
    {
     "data": {
      "text/plain": [
       "array([  3.41032132,   3.65350052,   2.92570422,   2.79700845,\n",
       "         3.3710318 ,   3.68635043,   3.17104684,   2.49863282,\n",
       "         2.99616349,   1.71346827, 159.        ,   1.2601849 ,\n",
       "        17.        ])"
      ]
     },
     "execution_count": 230,
     "metadata": {},
     "output_type": "execute_result"
    }
   ],
   "source": [
    "example = np.random.normal(3, 1, 13)\n",
    "example[10] = 159\n",
    "example[12] = 17\n",
    "example"
   ]
  },
  {
   "cell_type": "code",
   "execution_count": 231,
   "metadata": {},
   "outputs": [
    {
     "data": {
      "text/plain": [
       "array([0, 0, 0, 0, 0, 0, 0, 0, 0, 0, 1, 0, 1], dtype=int64)"
      ]
     },
     "execution_count": 231,
     "metadata": {},
     "output_type": "execute_result"
    }
   ],
   "source": [
    "bgmm = BGMMBDT(criteria=0.5)\n",
    "bgmm.predict(example.reshape(-1, 1), weight_type=\"linear\")"
   ]
  },
  {
   "cell_type": "code",
   "execution_count": null,
   "metadata": {},
   "outputs": [],
   "source": []
  }
 ],
 "metadata": {
  "language_info": {
   "name": "python"
  },
  "orig_nbformat": 4
 },
 "nbformat": 4,
 "nbformat_minor": 2
}
